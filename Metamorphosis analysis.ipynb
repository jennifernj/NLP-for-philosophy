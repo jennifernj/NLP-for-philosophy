{
 "cells": [
  {
   "cell_type": "markdown",
   "metadata": {},
   "source": [
    "# Analyzing Franz Kafka's _The Metamorphosis_ with NLP"
   ]
  },
  {
   "cell_type": "markdown",
   "metadata": {},
   "source": [
    "* Kafka's _Metamorphosis_ is commonly interpreted by humans as giving insights into the meaning of personal identity\n",
    "* The conclusions that we can draw from texts are limited by our uniquely human preconceptions and rhetorical weaknesses\n",
    "* Guiding question: What happens when computers read philosophy? That is, if we apply machine learning and linguistic approaches from natural language processing (NLP) to analyzing _The Metamorphosis_, how will the results support or contrast with our human reading?\n",
    "* Read on to see what computers think about Kafka..."
   ]
  },
  {
   "cell_type": "markdown",
   "metadata": {},
   "source": [
    "First, import the libraries that will be helpful later on."
   ]
  },
  {
   "cell_type": "code",
   "execution_count": 3,
   "metadata": {
    "collapsed": true
   },
   "outputs": [],
   "source": [
    "import nltk\n",
    "from nltk.corpus import stopwords\n",
    "from nltk import word_tokenize\n",
    "import random\n",
    "import numpy as np\n",
    "import regex as re\n",
    "import pandas as pd\n",
    "from matplotlib import pyplot as plt"
   ]
  },
  {
   "cell_type": "markdown",
   "metadata": {},
   "source": [
    "The text is sourced from Project Gutenberg (David Wyllie\n",
    " translation): http://www.gutenberg.org/files/5200/5200-h/5200-h.htm."
   ]
  },
  {
   "cell_type": "code",
   "execution_count": 4,
   "metadata": {
    "collapsed": true
   },
   "outputs": [],
   "source": [
    "file = open(\"5200-h.txt\", \"r\")\n",
    "content = file.read()"
   ]
  },
  {
   "cell_type": "markdown",
   "metadata": {},
   "source": [
    "Clean messy string into individual word tokens (includes punctuation and contraction fragments) with some regex magic."
   ]
  },
  {
   "cell_type": "code",
   "execution_count": 5,
   "metadata": {
    "collapsed": true,
    "scrolled": false
   },
   "outputs": [],
   "source": [
    "words = re.findall(r'\\w+', content)"
   ]
  },
  {
   "cell_type": "code",
   "execution_count": 6,
   "metadata": {},
   "outputs": [
    {
     "data": {
      "text/plain": [
       "['more',\n",
       " 'the',\n",
       " 'behind',\n",
       " 'picture',\n",
       " 'was',\n",
       " 'if',\n",
       " 'keep',\n",
       " 'hair',\n",
       " 'my',\n",
       " 'like',\n",
       " 'as',\n",
       " 'lain',\n",
       " 'his',\n",
       " 'to',\n",
       " 'they']"
      ]
     },
     "execution_count": 6,
     "metadata": {},
     "output_type": "execute_result"
    }
   ],
   "source": [
    "random.sample(words, 15)"
   ]
  },
  {
   "cell_type": "markdown",
   "metadata": {},
   "source": [
    "Lots of words!"
   ]
  },
  {
   "cell_type": "code",
   "execution_count": 7,
   "metadata": {},
   "outputs": [
    {
     "data": {
      "text/plain": [
       "22383"
      ]
     },
     "execution_count": 7,
     "metadata": {},
     "output_type": "execute_result"
    }
   ],
   "source": [
    "len(words)"
   ]
  },
  {
   "cell_type": "markdown",
   "metadata": {},
   "source": [
    "## Word frequencies"
   ]
  },
  {
   "cell_type": "markdown",
   "metadata": {},
   "source": [
    "Count how many times each word occurs. Words are converted to lowercase to simplify things."
   ]
  },
  {
   "cell_type": "code",
   "execution_count": 8,
   "metadata": {
    "collapsed": true
   },
   "outputs": [],
   "source": [
    "def get_word_freqs(words):\n",
    "    freqs = {}\n",
    "    for word in words:\n",
    "        lower = word.lower()\n",
    "        if lower in freqs:\n",
    "            freqs[lower] += 1\n",
    "        else:\n",
    "            freqs[lower] = 1\n",
    "    return freqs"
   ]
  },
  {
   "cell_type": "code",
   "execution_count": 9,
   "metadata": {
    "collapsed": true
   },
   "outputs": [],
   "source": [
    "word_freqs_dict = get_word_freqs(words)"
   ]
  },
  {
   "cell_type": "markdown",
   "metadata": {},
   "source": [
    "Convert the dictionary of frequencies to a Pandas Series (nicer for lots of data). Note that there are far fewer unique than total words."
   ]
  },
  {
   "cell_type": "code",
   "execution_count": 10,
   "metadata": {},
   "outputs": [
    {
     "data": {
      "text/plain": [
       "2578"
      ]
     },
     "execution_count": 10,
     "metadata": {},
     "output_type": "execute_result"
    }
   ],
   "source": [
    "word_freqs = pd.Series(word_freqs_dict)\n",
    "len(word_freqs)"
   ]
  },
  {
   "cell_type": "markdown",
   "metadata": {},
   "source": [
    "The 30 most frequently occurring words. By far the most common word is \"the\", which isn't surprising given its grammatical importance. In fact, most of these words aren't specific to _The Metamorphosis_. Interestingly, \"room\" appears more often even than generally common words \"be\" and \"could\", which suggests its significance in the story."
   ]
  },
  {
   "cell_type": "code",
   "execution_count": 11,
   "metadata": {},
   "outputs": [
    {
     "data": {
      "text/plain": [
       "the       1148\n",
       "to         753\n",
       "and        642\n",
       "he         590\n",
       "his        550\n",
       "of         429\n",
       "was        409\n",
       "it         370\n",
       "had        352\n",
       "in         348\n",
       "that       345\n",
       "gregor     298\n",
       "a          285\n",
       "as         242\n",
       "she        200\n",
       "with       199\n",
       "s          194\n",
       "him        188\n",
       "her        187\n",
       "would      187\n",
       "not        176\n",
       "but        171\n",
       "at         169\n",
       "for        166\n",
       "they       160\n",
       "on         152\n",
       "all        135\n",
       "room       131\n",
       "be         119\n",
       "could      119\n",
       "dtype: int64"
      ]
     },
     "execution_count": 11,
     "metadata": {},
     "output_type": "execute_result"
    }
   ],
   "source": [
    "word_freqs.nlargest(30)"
   ]
  },
  {
   "cell_type": "markdown",
   "metadata": {},
   "source": [
    "Since many of these words aren't very interesting, let's forget about them for now. These words are called <a href=\"https://en.wikipedia.org/wiki/Stop_words\" target=\"_blank\">stop words</a>, and the NLP library nltk conveniently includes a list of them so we can exclude them."
   ]
  },
  {
   "cell_type": "markdown",
   "metadata": {},
   "source": [
    "Some example stop words. Some may be word fragments due to how nltk parses words."
   ]
  },
  {
   "cell_type": "code",
   "execution_count": 12,
   "metadata": {},
   "outputs": [
    {
     "data": {
      "text/plain": [
       "['my',\n",
       " 'as',\n",
       " 'from',\n",
       " 'down',\n",
       " 'himself',\n",
       " \"needn't\",\n",
       " 'both',\n",
       " \"didn't\",\n",
       " 'before',\n",
       " 'than']"
      ]
     },
     "execution_count": 12,
     "metadata": {},
     "output_type": "execute_result"
    }
   ],
   "source": [
    "stop_words = set(stopwords.words('english'))\n",
    "random.sample(stop_words, 10)"
   ]
  },
  {
   "cell_type": "markdown",
   "metadata": {},
   "source": [
    "Yay, that annoying \"the\" will be gone!"
   ]
  },
  {
   "cell_type": "code",
   "execution_count": 13,
   "metadata": {},
   "outputs": [
    {
     "data": {
      "text/plain": [
       "True"
      ]
     },
     "execution_count": 13,
     "metadata": {},
     "output_type": "execute_result"
    }
   ],
   "source": [
    "'the' in stop_words"
   ]
  },
  {
   "cell_type": "markdown",
   "metadata": {},
   "source": [
    "Exclude the stop words to create a new series with only the salient words. Now the most common words are actually meaningful! We see the main character names at the top: Gregor and his father, sister, and mother. \"Grete\" doesn't appear on the list at all, reflecting Kafka's tendency to describe her in relation to Gregor (i.e. \"his sister\") rather than as her own character. That \"room\" appears at the top along with the important people suggests that it could be considered a character in itself: It plays an essential role in Gregor's development as he lives out his bug life, more so than any of his family members."
   ]
  },
  {
   "cell_type": "code",
   "execution_count": 14,
   "metadata": {},
   "outputs": [
    {
     "data": {
      "text/plain": [
       "gregor     298\n",
       "would      187\n",
       "room       131\n",
       "could      119\n",
       "father     102\n",
       "sister     101\n",
       "mother      89\n",
       "door        87\n",
       "back        82\n",
       "even        80\n",
       "one         72\n",
       "way         62\n",
       "time        59\n",
       "said        51\n",
       "little      49\n",
       "first       44\n",
       "get         44\n",
       "still       44\n",
       "go          40\n",
       "made        40\n",
       "see         39\n",
       "without     39\n",
       "head        38\n",
       "like        38\n",
       "much        38\n",
       "chief       37\n",
       "clerk       37\n",
       "open        35\n",
       "samsa       34\n",
       "away        32\n",
       "dtype: int64"
      ]
     },
     "execution_count": 14,
     "metadata": {},
     "output_type": "execute_result"
    }
   ],
   "source": [
    "to_drop = [w for w in word_freqs.index if w in stop_words]\n",
    "word_freqs_salient = word_freqs.drop(to_drop)\n",
    "word_freqs_salient.nlargest(30)"
   ]
  },
  {
   "cell_type": "markdown",
   "metadata": {},
   "source": [
    "## Word frequencies over time"
   ]
  },
  {
   "cell_type": "markdown",
   "metadata": {
    "collapsed": true
   },
   "source": [
    "Now that we've seen the patterns in word usage over the entire novella, let's see how they vary over time."
   ]
  },
  {
   "cell_type": "markdown",
   "metadata": {},
   "source": [
    "First get the positions of a given word throughout the text."
   ]
  },
  {
   "cell_type": "code",
   "execution_count": 15,
   "metadata": {
    "collapsed": true
   },
   "outputs": [],
   "source": [
    "def get_word_indices(word):\n",
    "    return [i for i,x in enumerate(words) if x == word]"
   ]
  },
  {
   "cell_type": "markdown",
   "metadata": {},
   "source": [
    "For example, \"picture\" appears at these 6 positions. Five of these are clustered together in the section where Grete and the mother attempt to remove a picture from Gregor's rooom."
   ]
  },
  {
   "cell_type": "code",
   "execution_count": 19,
   "metadata": {},
   "outputs": [
    {
     "data": {
      "text/plain": [
       "[146, 13175, 13203, 13222, 13388, 13512]"
      ]
     },
     "execution_count": 19,
     "metadata": {},
     "output_type": "execute_result"
    }
   ],
   "source": [
    "get_word_indices('picture')"
   ]
  },
  {
   "cell_type": "markdown",
   "metadata": {},
   "source": [
    "Below is the frequency of \"Gregor\" over time. It tapers off at the end, after Gregor dies and the story turns to focus on his family. There's an interesting oscillating pattern, where \"Gregor\" alternately becomes frequent and infrequent."
   ]
  },
  {
   "cell_type": "code",
   "execution_count": 42,
   "metadata": {},
   "outputs": [
    {
     "data": {
      "image/png": "[encoded data removed]",
      "text/plain": [
       "<matplotlib.figure.Figure at 0x1a20412b38>"
      ]
     },
     "metadata": {},
     "output_type": "display_data"
    }
   ],
   "source": [
    "gregor_indices = get_word_indices('Gregor')\n",
    "n, bins, _ = plt.hist(gregor_indices, bins=40)\n",
    "plt.clf()\n",
    "plt.plot(bins[:-1], n)\n",
    "plt.xlabel('word position', fontsize=18)\n",
    "plt.ylabel('count', fontsize=18)\n",
    "plt.show()"
   ]
  },
  {
   "cell_type": "markdown",
   "metadata": {},
   "source": [
    "Let's see how this compares to the mentions of Gregor's family members."
   ]
  },
  {
   "cell_type": "code",
   "execution_count": 86,
   "metadata": {},
   "outputs": [
    {
     "data": {
      "text/plain": [
       "<matplotlib.figure.Figure at 0x1a20347e10>"
      ]
     },
     "metadata": {},
     "output_type": "display_data"
    },
    {
     "data": {
      "image/png": "[encoded data removed]",
      "text/plain": [
       "<matplotlib.figure.Figure at 0x1a20477c18>"
      ]
     },
     "metadata": {},
     "output_type": "display_data"
    }
   ],
   "source": [
    "gregor_indices = get_word_indices('Gregor')\n",
    "mother_indices = get_word_indices('mother')\n",
    "father_indices = get_word_indices('father')\n",
    "sister_indices = get_word_indices('sister') + get_word_indices('Grete')\n",
    "\n",
    "n_gregor, bins_gregor, _ = plt.hist(gregor_indices, bins=30)\n",
    "n_mother, bins_mother, _ = plt.hist(mother_indices, bins=30)\n",
    "n_father, bins_father, _ = plt.hist(father_indices, bins=30)\n",
    "n_sister, bins_sister, _ = plt.hist(sister_indices, bins=30)\n",
    "\n",
    "plt.clf()\n",
    "\n",
    "fig, ax = plt.subplots(nrows=1, ncols=4)\n",
    "\n",
    "fig.tight_layout()\n",
    "fig.set_figheight(5)\n",
    "fig.set_figwidth(15)\n",
    "\n",
    "ax[0].plot(bins_gregor[:-1], n_gregor, label=\"Gregor\", color='blue');\n",
    "ax[1].plot(bins_mother[:-1], n_mother, label='Mother', color='red');\n",
    "ax[2].plot(bins_father[:-1], n_father, label='Father', color='orange');\n",
    "ax[3].plot(bins_sister[:-1], n_sister, label='Sister', color='green');\n",
    "\n",
    "chars = ['Gregor', 'Mother', 'Father', 'Sister']\n",
    "\n",
    "for i in range(len(ax)):\n",
    "    ax_i = ax[i]\n",
    "    ax[i].set_title(chars[i], fontsize=20)\n",
    "    ax[i].set_ylim([0, 20])\n",
    "    ax[i].set_ylabel('count', fontsize=16)\n",
    "    ax[i].set_xlabel('word position', fontsize=16)\n",
    "\n",
    "plt.show()"
   ]
  },
  {
   "cell_type": "code",
   "execution_count": null,
   "metadata": {
    "collapsed": true
   },
   "outputs": [],
   "source": []
  }
 ],
 "metadata": {
  "kernelspec": {
   "display_name": "Python 3",
   "language": "python",
   "name": "python3"
  },
  "language_info": {
   "codemirror_mode": {
    "name": "ipython",
    "version": 3
   },
   "file_extension": ".py",
   "mimetype": "text/x-python",
   "name": "python",
   "nbconvert_exporter": "python",
   "pygments_lexer": "ipython3",
   "version": "3.6.8"
  }
 },
 "nbformat": 4,
 "nbformat_minor": 2
}
